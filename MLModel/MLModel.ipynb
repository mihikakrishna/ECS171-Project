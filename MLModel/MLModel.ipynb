{
 "cells": [
  {
   "cell_type": "code",
   "execution_count": 54,
   "metadata": {
    "collapsed": true
   },
   "outputs": [],
   "source": [
    "import cv2\n",
    "import numpy as np\n",
    "import os\n",
    "\n",
    "import datetime\n",
    "from skimage import io\n",
    "import os\n",
    "import random\n",
    "import matplotlib.pyplot as plt\n",
    "import glob"
   ]
  },
  {
   "cell_type": "code",
   "execution_count": 55,
   "metadata": {},
   "outputs": [
    {
     "name": "stdout",
     "output_type": "stream",
     "text": [
      "Frames per second using video.get(cv2.CAP_PROP_FPS) : 1\n"
     ]
    }
   ],
   "source": [
    "# Starts capturing video\n",
    "cap = cv2.VideoCapture(0)\n",
    "\n",
    "fps = int(cap.get(cv2.CAP_PROP_FPS))\n",
    "\n",
    "print(\"Frames per second using video.get(cv2.CAP_PROP_FPS) : {0}\".format(fps))\n",
    "\n",
    "while cap.isOpened():\n",
    "    ret, frame = cap.read()\n",
    "    cv2.imshow('Captured Frame', frame)\n",
    "    if cv2.waitKey(1) == ord('q'):\n",
    "        break\n",
    "\n",
    "    keypress = cv2.waitKey(1) & 0xFF\n",
    "\n",
    "cap.release()\n",
    "cv2.destroyAllWindows()"
   ]
  },
  {
   "cell_type": "code",
   "execution_count": 84,
   "metadata": {},
   "outputs": [],
   "source": [
    "def segment(image, aWeight):\n",
    "    # initialize the background\n",
    "    bg = None\n",
    "\n",
    "    # if the background is None, initialize it\n",
    "    if bg is None:\n",
    "        bg = image.copy().astype(\"float\")\n",
    "        return None\n",
    "\n",
    "    # compute weighted average, accumulate it and update the background\n",
    "    cv2.accumulateWeighted(image, bg, aWeight)\n",
    "\n",
    "    # compute absolute difference between the background and current frame\n",
    "    diff = cv2.absdiff(bg.astype(\"uint8\"), image)\n",
    "\n",
    "    # threshold the diff image so that we get the foreground\n",
    "    thresholded = cv2.threshold(diff, 25, 255, cv2.THRESH_BINARY)[1]\n",
    "\n",
    "    # get the contours in the thresholded image\n",
    "    cnts, _ = cv2.findContours(thresholded.copy(), cv2.RETR_EXTERNAL, cv2.CHAIN_APPROX_SIMPLE)\n",
    "\n",
    "    # return None, if no contours detected\n",
    "    if len(cnts) == 0:\n",
    "        return None\n",
    "    else:\n",
    "        # based on contour area, get the maximum contour which is the hand\n",
    "        segmented = max(cnts, key=cv2.contourArea)\n",
    "        return (thresholded, segmented)\n"
   ]
  },
  {
   "cell_type": "code",
   "execution_count": 57,
   "metadata": {},
   "outputs": [
    {
     "name": "stdout",
     "output_type": "stream",
     "text": [
      "Model: \"sequential_2\"\n",
      "_________________________________________________________________\n",
      " Layer (type)                Output Shape              Param #   \n",
      "=================================================================\n",
      " conv2d_4 (Conv2D)           (None, 98, 118, 32)       320       \n",
      "                                                                 \n",
      " batch_normalization_4 (Batc  (None, 98, 118, 32)      128       \n",
      " hNormalization)                                                 \n",
      "                                                                 \n",
      " max_pooling2d_4 (MaxPooling  (None, 49, 59, 32)       0         \n",
      " 2D)                                                             \n",
      "                                                                 \n",
      " dropout_6 (Dropout)         (None, 49, 59, 32)        0         \n",
      "                                                                 \n",
      " conv2d_5 (Conv2D)           (None, 47, 57, 64)        18496     \n",
      "                                                                 \n",
      " batch_normalization_5 (Batc  (None, 47, 57, 64)       256       \n",
      " hNormalization)                                                 \n",
      "                                                                 \n",
      " max_pooling2d_5 (MaxPooling  (None, 23, 28, 64)       0         \n",
      " 2D)                                                             \n",
      "                                                                 \n",
      " dropout_7 (Dropout)         (None, 23, 28, 64)        0         \n",
      "                                                                 \n",
      " flatten_2 (Flatten)         (None, 41216)             0         \n",
      "                                                                 \n",
      " dense_4 (Dense)             (None, 128)               5275776   \n",
      "                                                                 \n",
      " dropout_8 (Dropout)         (None, 128)               0         \n",
      "                                                                 \n",
      " dense_5 (Dense)             (None, 6)                 774       \n",
      "                                                                 \n",
      "=================================================================\n",
      "Total params: 5,295,750\n",
      "Trainable params: 5,295,558\n",
      "Non-trainable params: 192\n",
      "_________________________________________________________________\n"
     ]
    }
   ],
   "source": [
    "import keras\n",
    "from keras.datasets import mnist\n",
    "from keras.models import Sequential\n",
    "from keras.layers import Dense, Dropout, Flatten, BatchNormalization\n",
    "from keras.layers import Activation, Dropout\n",
    "from keras.layers import Conv2D, MaxPooling2D\n",
    "from keras import backend as K\n",
    "from keras.optimizers import Adam\n",
    "\n",
    "\n",
    "# model\n",
    "model = Sequential()\n",
    "\n",
    "# first conv layer\n",
    "# input shape = (img_rows, img_cols, 1)\n",
    "model.add(Conv2D(32, kernel_size=(3, 3), activation='relu', input_shape=(100,120, 1))) \n",
    "model.add(BatchNormalization())\n",
    "model.add(MaxPooling2D(pool_size=(2, 2)))\n",
    "model.add(Dropout(0.25))\n",
    "\n",
    "# second conv layer\n",
    "model.add(Conv2D(64, kernel_size=(3, 3), activation='relu'))\n",
    "model.add(BatchNormalization())\n",
    "model.add(MaxPooling2D(pool_size=(2, 2)))\n",
    "model.add(Dropout(0.25))\n",
    "\n",
    "# flatten and put a fully connected layer\n",
    "model.add(Flatten())\n",
    "model.add(Dense(128, activation='relu')) # fully connected\n",
    "model.add(Dropout(0.5))\n",
    "\n",
    "# softmax layer\n",
    "model.add(Dense(6, activation='softmax'))\n",
    "\n",
    "# model summary\n",
    "optimiser = Adam() \n",
    "model.compile(optimizer=optimiser, loss='categorical_crossentropy', metrics=['categorical_accuracy'])\n",
    "model.summary()"
   ]
  },
  {
   "cell_type": "code",
   "execution_count": 58,
   "metadata": {},
   "outputs": [
    {
     "data": {
      "text/plain": [
       "['data/ok',\n",
       " 'data/thumbsup',\n",
       " 'data/blank',\n",
       " 'data/thumbsdown',\n",
       " 'data/fist',\n",
       " 'data/five']"
      ]
     },
     "execution_count": 58,
     "metadata": {},
     "output_type": "execute_result"
    }
   ],
   "source": [
    "# Loading the Dataset\n",
    "\n",
    "DATASET_PATH = 'data'\n",
    "\n",
    "dataset_path = os.path.join(DATASET_PATH, '*')\n",
    "import glob\n",
    "dataset_path = glob.glob(dataset_path)\n",
    "dataset_path"
   ]
  },
  {
   "cell_type": "code",
   "execution_count": 59,
   "metadata": {},
   "outputs": [
    {
     "data": {
      "text/plain": [
       "<matplotlib.image.AxesImage at 0x17299ab00>"
      ]
     },
     "execution_count": 59,
     "metadata": {},
     "output_type": "execute_result"
    },
    {
     "data": {
      "image/png": "[encoded data removed]",
      "text/plain": [
       "<Figure size 640x480 with 1 Axes>"
      ]
     },
     "metadata": {},
     "output_type": "display_data"
    }
   ],
   "source": [
    "import cv2\n",
    "image = cv2.imread('data/five/hand1(1015).jpg')\n",
    "image = cv2.resize(image,(100, 120))\n",
    "plt.imshow(cv2.cvtColor(image, cv2.COLOR_BGR2RGB))"
   ]
  },
  {
   "cell_type": "code",
   "execution_count": 60,
   "metadata": {},
   "outputs": [
    {
     "name": "stdout",
     "output_type": "stream",
     "text": [
      "9600\n",
      "9600\n"
     ]
    }
   ],
   "source": [
    "loaded_images = []\n",
    "\n",
    "list_of_gestures = ['blank', 'ok', 'thumbsup', 'thumbsdown', 'fist', 'five']\n",
    "\n",
    "for path in range(0, len(dataset_path)):\n",
    "    dataset_path = \"data/\" + str(list_of_gestures[path])\n",
    "    gesture_path = os.path.join(dataset_path, '*')\n",
    "    import glob\n",
    "    gest_path = glob.glob(gesture_path)\n",
    "    k = 0\n",
    "    for i in range(0, len(gest_path)):\n",
    "        if k < 1600:\n",
    "            image = cv2.imread(gest_path[i])\n",
    "            gray_image = cv2.cvtColor(image, cv2.COLOR_BGR2GRAY)\n",
    "            gray_image = cv2.resize(gray_image,(100, 120))\n",
    "            loaded_images.append(gray_image)\n",
    "        k=k+1\n",
    "print(len(loaded_images))\n",
    "\n",
    "outputVectors = []\n",
    "for i in range(1, 1601):\n",
    "    outputVectors.append([1, 0, 0, 0, 0, 0])\n",
    "\n",
    "for i in range(1, 1601):\n",
    "    outputVectors.append([0, 1, 0, 0, 0, 0])\n",
    "\n",
    "for i in range(1, 1601):\n",
    "    outputVectors.append([0, 0, 1, 0, 0, 0])\n",
    "    \n",
    "for i in range(1, 1601):\n",
    "    outputVectors.append([0, 0, 0, 1, 0, 0])\n",
    "    \n",
    "for i in range(1, 1601):\n",
    "    outputVectors.append([0, 0, 0, 0, 1, 0])\n",
    "\n",
    "for i in range(1, 1601):\n",
    "    outputVectors.append([0, 0, 0, 0, 0, 1])\n",
    "\n",
    "print(len(outputVectors))"
   ]
  },
  {
   "cell_type": "code",
   "execution_count": 61,
   "metadata": {},
   "outputs": [
    {
     "name": "stdout",
     "output_type": "stream",
     "text": [
      "(9600, 120, 100)\n",
      "(9600, 6)\n"
     ]
    }
   ],
   "source": [
    "X = np.asarray(loaded_images)\n",
    "y = np.asarray(outputVectors)\n",
    "print(X.shape)\n",
    "print(y.shape)"
   ]
  },
  {
   "cell_type": "code",
   "execution_count": 62,
   "metadata": {},
   "outputs": [
    {
     "name": "stdout",
     "output_type": "stream",
     "text": [
      "(7680, 100, 120, 1)\n",
      "(1920, 100, 120, 1)\n"
     ]
    }
   ],
   "source": [
    "from sklearn.model_selection import train_test_split\n",
    "X_train, X_test, y_train, y_test = train_test_split(X, y, test_size=0.2, random_state=4)\n",
    "X_train = X_train.reshape(X_train.shape[0], 100, 120, 1)\n",
    "X_test = X_test.reshape(X_test.shape[0], 100, 120, 1)\n",
    "print(X_train.shape)\n",
    "print(X_test.shape)"
   ]
  },
  {
   "cell_type": "code",
   "execution_count": 63,
   "metadata": {},
   "outputs": [
    {
     "name": "stdout",
     "output_type": "stream",
     "text": [
      "Epoch 1/10\n",
      "60/60 [==============================] - 64s 1s/step - loss: 2.2889 - categorical_accuracy: 0.7056 - val_loss: 0.3175 - val_categorical_accuracy: 0.8776\n",
      "Epoch 2/10\n",
      "60/60 [==============================] - 65s 1s/step - loss: 0.3473 - categorical_accuracy: 0.8406 - val_loss: 0.1028 - val_categorical_accuracy: 0.9625\n",
      "Epoch 3/10\n",
      "60/60 [==============================] - 78s 1s/step - loss: 0.2859 - categorical_accuracy: 0.8602 - val_loss: 0.1056 - val_categorical_accuracy: 0.9646\n",
      "Epoch 4/10\n",
      "60/60 [==============================] - 61s 1s/step - loss: 0.2272 - categorical_accuracy: 0.8854 - val_loss: 0.0990 - val_categorical_accuracy: 0.9490\n",
      "Epoch 5/10\n",
      "60/60 [==============================] - 63s 1s/step - loss: 0.1978 - categorical_accuracy: 0.9010 - val_loss: 0.0419 - val_categorical_accuracy: 0.9870\n",
      "Epoch 6/10\n",
      "60/60 [==============================] - 62s 1s/step - loss: 0.1866 - categorical_accuracy: 0.9079 - val_loss: 0.0360 - val_categorical_accuracy: 0.9880\n",
      "Epoch 7/10\n",
      "60/60 [==============================] - 66s 1s/step - loss: 0.1467 - categorical_accuracy: 0.9296 - val_loss: 0.0257 - val_categorical_accuracy: 0.9917\n",
      "Epoch 8/10\n",
      "60/60 [==============================] - 59s 984ms/step - loss: 0.1232 - categorical_accuracy: 0.9410 - val_loss: 0.0244 - val_categorical_accuracy: 0.9958\n",
      "Epoch 9/10\n",
      "60/60 [==============================] - 62s 1s/step - loss: 0.1203 - categorical_accuracy: 0.9402 - val_loss: 0.0135 - val_categorical_accuracy: 0.9984\n",
      "Epoch 10/10\n",
      "60/60 [==============================] - 64s 1s/step - loss: 0.1075 - categorical_accuracy: 0.9469 - val_loss: 0.0072 - val_categorical_accuracy: 0.9979\n"
     ]
    }
   ],
   "source": [
    "model.fit(X_train, y_train,\n",
    "          batch_size=128,\n",
    "          epochs=10,\n",
    "          verbose=1,\n",
    "          validation_data=(X_test, y_test))\n",
    "\n",
    "model.save(\"hand_gesture_recognition.h5\")"
   ]
  },
  {
   "cell_type": "code",
   "execution_count": 64,
   "metadata": {},
   "outputs": [
    {
     "name": "stdout",
     "output_type": "stream",
     "text": [
      "60/60 [==============================] - 6s 100ms/step - loss: 0.0072 - categorical_accuracy: 0.9979\n",
      "Accuracy: 0.9979166388511658\n"
     ]
    }
   ],
   "source": [
    "[loss, acc] = model.evaluate(X_test,y_test,verbose=1)\n",
    "print(\"Accuracy: \" + str(acc))"
   ]
  },
  {
   "cell_type": "code",
   "execution_count": 91,
   "metadata": {},
   "outputs": [
    {
     "name": "stdout",
     "output_type": "stream",
     "text": [
      "[STATUS] please wait! calibrating...\n"
     ]
    }
   ],
   "source": [
    "# load Model Weights\n",
    "\n",
    "def _load_weights():\n",
    "    try:\n",
    "        model = load_model(\"hand_gesture_recog_model.h5\")\n",
    "        print(model.summary())\n",
    "        # print(model.get_weights())\n",
    "        # print(model.optimizer)\n",
    "        return model\n",
    "    except Exception as e:\n",
    "        return None\n",
    "\n",
    "\n",
    "    \n",
    "def getPredictedClass(model):\n",
    "\n",
    "    image = cv2.imread('Temp.png')\n",
    "    gray_image = cv2.cvtColor(image, cv2.COLOR_BGR2GRAY)\n",
    "    gray_image = cv2.resize(gray_image, (100, 120))\n",
    "\n",
    "    gray_image = gray_image.reshape(1, 100, 120, 1)\n",
    "\n",
    "    prediction = model.predict_on_batch(gray_image)\n",
    "    print(prediction)\n",
    "\n",
    "    predicted_class = np.argmax(prediction)\n",
    "    if predicted_class == 0:\n",
    "        return \"Blank\"\n",
    "    elif predicted_class == 1:\n",
    "        return \"OK\"\n",
    "    elif predicted_class == 2:\n",
    "        return \"Thumbs Up\"\n",
    "    elif predicted_class == 3:\n",
    "        return \"Thumbs Down\"\n",
    "    elif predicted_class == 4:\n",
    "        return \"Punch\"\n",
    "    elif predicted_class == 5:\n",
    "        return \"High Five\"\n",
    "\n",
    "if __name__ == \"__main__\":\n",
    "    # initialize accumulated weight\n",
    "    accumWeight = 0.5\n",
    "\n",
    "    # get the reference to the webcam\n",
    "    camera = cv2.VideoCapture(0)\n",
    "\n",
    "    fps = int(camera.get(cv2.CAP_PROP_FPS))\n",
    "    # region of interest (ROI) coordinates\n",
    "    top, right, bottom, left = 10, 350, 225, 590\n",
    "    # initialize num of frames\n",
    "    num_frames = 0\n",
    "    # calibration indicator\n",
    "    calibrated = False\n",
    "    model = _load_weights()\n",
    "    k = 0\n",
    "    # keep looping, until interrupted\n",
    "    while (True):\n",
    "        # get the current frame\n",
    "        (grabbed, frame) = camera.read()\n",
    "\n",
    "        # resize the frame\n",
    "        frame = cv2.resize(frame, (700,700))\n",
    "        # flip the frame so that it is not the mirror view\n",
    "        frame = cv2.flip(frame, 1)\n",
    "\n",
    "        # clone the frame\n",
    "        clone = frame.copy()\n",
    "\n",
    "        # get the height and width of the frame\n",
    "        (height, width) = frame.shape[:2]\n",
    "\n",
    "        # get the ROI\n",
    "        roi = frame[top:bottom, right:left]\n",
    "\n",
    "        # convert the roi to grayscale and blur it\n",
    "        gray = cv2.cvtColor(roi, cv2.COLOR_BGR2GRAY)\n",
    "        gray = cv2.GaussianBlur(gray, (7, 7), 0)\n",
    "\n",
    "        # to get the background, keep looking till a threshold is reached\n",
    "        # so that our weighted average model gets calibrated\n",
    "        if num_frames < 30:\n",
    "            True\n",
    "            # run_avg(gray, accumWeight)\n",
    "            if num_frames == 1:\n",
    "                print(\"[STATUS] please wait! calibrating...\")\n",
    "            elif num_frames == 29:\n",
    "                print(\"[STATUS] calibration successfull...\")\n",
    "        else:\n",
    "            # segment the hand region\n",
    "            hand = segment(gray, accumWeight)\n",
    "\n",
    "            # check whether hand region is segmented\n",
    "            if hand is not None:\n",
    "                # if yes, unpack the thresholded image and\n",
    "                # segmented region\n",
    "                (thresholded, segmented) = hand\n",
    "\n",
    "                # draw the segmented region and display the frame\n",
    "                cv2.drawContours(clone, [segmented + (right, top)], -1, (0, 0, 255))\n",
    "\n",
    "                # count the number of fingers\n",
    "                # fingers = count(thresholded, segmented)\n",
    "                if k % (fps / 6) == 0:\n",
    "                    cv2.imwrite('Temp.png', thresholded)\n",
    "                    predictedClass = getPredictedClass(model)\n",
    "                    cv2.putText(clone, str(predictedClass), (70, 45), cv2.FONT_HERSHEY_SIMPLEX, 1, (0, 0, 255), 2)\n",
    "\n",
    "                # show the thresholded image\n",
    "                cv2.imshow(\"Thesholded\", thresholded)\n",
    "        k = k + 1\n",
    "        # draw the segmented hand\n",
    "        cv2.rectangle(clone, (left, top), (right, bottom), (0, 255, 0), 2)\n",
    "\n",
    "        # increment the number of frames\n",
    "        num_frames += 1\n",
    "\n",
    "        # display the frame with segmented hand\n",
    "        cv2.imshow(\"Video Feed\", clone)\n",
    "\n",
    "        # observe the keypress by the user\n",
    "        keypress = cv2.waitKey(1) & 0xFF\n",
    "\n",
    "        # if the user pressed \"q\", then stop looping\n",
    "        if keypress == ord(\"q\"):\n",
    "            break\n",
    "\n",
    "    # free up memory\n",
    "    camera.release()\n",
    "    cv2.destroyAllWindows()"
   ]
  }
 ],
 "metadata": {
  "kernelspec": {
   "display_name": "Python 3",
   "language": "python",
   "name": "python3"
  },
  "language_info": {
   "codemirror_mode": {
    "name": "ipython",
    "version": 3
   },
   "file_extension": ".py",
   "mimetype": "text/x-python",
   "name": "python",
   "nbconvert_exporter": "python",
   "pygments_lexer": "ipython3",
   "version": "3.10.2"
  }
 },
 "nbformat": 4,
 "nbformat_minor": 0
}
